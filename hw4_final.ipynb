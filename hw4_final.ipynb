{
  "nbformat": 4,
  "nbformat_minor": 0,
  "metadata": {
    "colab": {
      "name": "hw4 (1).ipynb",
      "version": "0.3.2",
      "provenance": [],
      "collapsed_sections": []
    },
    "kernelspec": {
      "name": "python3",
      "display_name": "Python 3"
    }
  },
  "cells": [
    {
      "metadata": {
        "id": "t_K6Gf0Ht1j6",
        "colab_type": "code",
        "colab": {}
      },
      "cell_type": "code",
      "source": [
        "# imporr libraries\n",
        "import torch.nn as nn\n",
        "import torch\n",
        "import autograd.numpy as np\n",
        "import pandas as pd\n",
        "from pyDOE import lhs\n",
        "from autograd import grad,elementwise_grad\n",
        "from sklearn.metrics import accuracy_score\n",
        "from sklearn.preprocessing import LabelBinarizer\n",
        "import matplotlib.pyplot as plt"
      ],
      "execution_count": 0,
      "outputs": []
    },
    {
      "metadata": {
        "id": "LY17jb3_tlrI",
        "colab_type": "text"
      },
      "cell_type": "markdown",
      "source": [
        "## Q1"
      ]
    },
    {
      "metadata": {
        "id": "_Ge0d1wTzQPy",
        "colab_type": "code",
        "colab": {}
      },
      "cell_type": "code",
      "source": [
        "#define neural network\n",
        "class VanillaNN():\n",
        "  def __init__(self,N):\n",
        "    X = 4 * lhs(2, N) + 50\n",
        "    y = np.multiply(np.cos(np.pi * X[:,0]),np.cos(np.pi * X[:,1]))\n",
        "    #Add bias term and normalize both input and outputhere\n",
        "    self.X = np.hstack([(X - np.mean(X,axis = 0))/ np.std(X,axis = 0),np.ones((X.shape[0],1))])\n",
        "    self.y = ((y - np.mean(y,axis = 0)) / np.std(y,axis = 0)).reshape(X.shape[0],1)\n",
        "    #split up into train/test set\n",
        "    X_test = 4 * lhs(2, 100) + 50\n",
        "    y_test = np.multiply(np.cos(np.pi * X_test[:,0]),np.cos(np.pi * X_test[:,1]))\n",
        "    self.X_test = np.hstack([(X_test - np.mean(X_test,axis = 0))/ np.std(X_test,axis = 0),np.ones((X_test.shape[0],1))])\n",
        "    self.y_test = ((y_test - np.mean(y_test,axis = 0)) / np.std(y_test,axis = 0)).reshape(X_test.shape[0],1)    \n",
        "    #initialize weights here\n",
        "    self.W1 = np.vstack((np.random.randn(2,50) * np.sqrt(1 / 26), np.zeros((1,50))))\n",
        "    self.W2 = np.vstack((np.random.randn(50,50) * np.sqrt(1 / 50),np.zeros((1,50))))\n",
        "    self.W3 = np.vstack((np.random.randn(50,1) * np.sqrt(2 / 51),np.zeros((1,1))))\n",
        "    #hyper parameters\n",
        "    self.iteration_num = 5000\n",
        "    self.beta_one = .9\n",
        "    self.beta_two = .999\n",
        "    self.epsilon = 1e-8\n",
        "    \n",
        "  def forward(self,X,W1,W2,W3):\n",
        "    out = np.matmul(X,W1)\n",
        "    out = np.hstack([np.tanh(out),np.ones((out.shape[0],1))])\n",
        "    out = np.matmul(out,W2)\n",
        "    out = np.hstack([np.tanh(out),np.ones((out.shape[0],1))])\n",
        "    out = np.matmul(out,W3)\n",
        "    return out\n",
        "  \n",
        "  def mse_loss(self,X,y,W1,W2,W3):\n",
        "    y_hat = self.forward(X,W1,W2,W3)\n",
        "    loss = np.dot((y - y_hat).T,(y -y_hat)) / X.shape[0]\n",
        "    return loss  \n",
        "  \n",
        "  def optimizer(self,learning_rate):\n",
        "    locator = 0\n",
        "    W = [self.W1,self.W2,self.W3]\n",
        "    m = [np.zeros(w.shape) for w in W]\n",
        "    v = [np.zeros(w.shape) for w in W]\n",
        "    grad_losses = [grad(self.mse_loss,num) for num in [2,3,4]]\n",
        "    for iter_num in range(self.iteration_num):\n",
        "      for i in range(3):\n",
        "        this_loss_gradient = grad_losses[i](self.X,self.y,*W)\n",
        "        m[i] = self.beta_one * m[i] + (1 - self.beta_one) * this_loss_gradient\n",
        "        v[i] = self.beta_two * v[i] + (1 - self.beta_two) * np.multiply(this_loss_gradient,this_loss_gradient)\n",
        "        m_dot = m[i] / (1 - self.beta_one ** (iter_num + 1))\n",
        "        v_dot = v[i] / (1 - self.beta_two ** (iter_num + 1))\n",
        "        W[i] -= learning_rate * m_dot / (np.sqrt(v_dot) + self.epsilon)\n",
        "    return W\n",
        "  \n",
        "  def l2_error(self):\n",
        "    W = self.optimizer(.001)\n",
        "    pred_y_norm = self.forward(self.X_test,*W)\n",
        "    displacement = pred_y_norm - self.y_test\n",
        "    return np.linalg.norm(displacement) / np.linalg.norm(self.y_test)"
      ],
      "execution_count": 0,
      "outputs": []
    },
    {
      "metadata": {
        "id": "Uxf6adpmur0x",
        "colab_type": "code",
        "outputId": "969cc9b0-a98b-456e-a35a-698aefbe5a5e",
        "colab": {
          "base_uri": "https://localhost:8080/",
          "height": 398
        }
      },
      "cell_type": "code",
      "source": [
        "l2_errors = []\n",
        "for N in [10,100,1000,10000]:\n",
        "  vnn = VanillaNN(N)\n",
        "  l2_error = vnn.l2_error()\n",
        "  l2_errors.append(l2_error)\n",
        "plt.plot([10,100,1000,10000],l2_errors,marker='o')\n",
        "plt.title('L2 error vs iteration in log10 scale')\n",
        "plt.xscale('log')\n",
        "plt.xlabel('Number of training points')\n",
        "plt.ylabel('L2 error')"
      ],
      "execution_count": 0,
      "outputs": [
        {
          "output_type": "execute_result",
          "data": {
            "text/plain": [
              "Text(0, 0.5, 'L2 error')"
            ]
          },
          "metadata": {
            "tags": []
          },
          "execution_count": 6
        },
        {
          "output_type": "display_data",
          "data": {
            "image/png": "[encoded data removed]",
            "text/plain": [
              "<Figure size 576x396 with 1 Axes>"
            ]
          },
          "metadata": {
            "tags": []
          }
        }
      ]
    },
    {
      "metadata": {
        "id": "QiwSD8e1td-C",
        "colab_type": "text"
      },
      "cell_type": "markdown",
      "source": [
        "## Q2"
      ]
    },
    {
      "metadata": {
        "id": "rk0gAlqUtoKy",
        "colab_type": "text"
      },
      "cell_type": "markdown",
      "source": [
        ""
      ]
    },
    {
      "metadata": {
        "id": "g1FYzMMOivLh",
        "colab_type": "code",
        "colab": {}
      },
      "cell_type": "code",
      "source": [
        "# implement Phisically informed NN\n",
        "class PhysicallyInformedNN(VanillaNN):\n",
        "  def __init__(self,N):\n",
        "    # including bias\n",
        "    self.X_Nu = np.array([[-1,1],[1,1]])\n",
        "    self.y_Nu = np.array([[0,0]]).T\n",
        "    self.N = N\n",
        "    self.X_Nf = np.hstack((2 * lhs(1, self.N) - 1,np.ones((self.N,1))))\n",
        "    self.X_test = np.hstack((2 * lhs(1, 100) - 1,np.ones((100,1))))\n",
        "    self.y_test = np.sin(np.pi * self.X_test[:,0]).reshape(100,1) \n",
        "    self.W1 = np.vstack([np.random.randn(1,50) * np.sqrt(2 / 51), np.zeros((1,50))])\n",
        "    self.W2 = np.vstack([np.random.randn(50,50) * np.sqrt(1 / 50),np.zeros((1,50))])\n",
        "    self.W3 = np.vstack([np.random.randn(50,1) * np.sqrt(2 / 51),np.zeros((1,1))])\n",
        "    self.iteration_num = 500\n",
        "    self.beta_one = .9\n",
        "    self.beta_two = .999\n",
        "    self.epsilon = 1e-8\n",
        "  \n",
        "  def physically_informed_loss(self,X_Nu,X_Nf,y_Nu,W1,W2,W3):\n",
        "    Nu_loss = self.mse_loss(X_Nu,y_Nu,W1,W2,W3)\n",
        "    \n",
        "    Nf_displacement = elementwise_grad(elementwise_grad(self.forward,0),0)(X_Nf,W1,W2,W3)[:,0].reshape(X_Nf.shape[0],1) - self.forward(X_Nf,W1,W2,W3) + (np.pi ** 2 + 1) * np.sin(np.pi * X_Nf[:,0].reshape(X_Nf.shape[0],1))\n",
        "    Nf_loss = np.matmul(Nf_displacement.T,Nf_displacement) / X_Nf.shape[0]\n",
        "    loss = Nu_loss + Nf_loss\n",
        "    \n",
        "    return loss\n",
        "  \n",
        "  def optimizer(self,learning_rate):\n",
        "    W = [self.W1,self.W2,self.W3]\n",
        "    m = [np.zeros(w.shape) for w in W]\n",
        "    v = [np.zeros(w.shape) for w in W]\n",
        "    grad_losses = [grad(self.physically_informed_loss,num) for num in [3,4,5]]\n",
        "    for iter_num in range(self.iteration_num):\n",
        "      for i in range(3):\n",
        "        this_loss_gradient = grad_losses[i](self.X_Nu,self.X_Nf,self.y_Nu,*W)\n",
        "        m[i] = self.beta_one * m[i] + (1 - self.beta_one) * this_loss_gradient\n",
        "        v[i] = self.beta_two * v[i] + (1 - self.beta_two) * np.multiply(this_loss_gradient,this_loss_gradient)\n",
        "        m_dot = m[i] / (1 - self.beta_one ** (iter_num + 1))\n",
        "        v_dot = v[i] / (1 - self.beta_two ** (iter_num + 1))\n",
        "        W[i] -= learning_rate * m_dot / (np.sqrt(v_dot) + self.epsilon)\n",
        "      \n",
        "    return W\n",
        "  def l2_error(self):\n",
        "    W = self.optimizer(.001)\n",
        "    pred_y_norm = self.forward(self.X_test,*W)\n",
        "    displacement = pred_y_norm - self.y_test\n",
        "    return np.linalg.norm(displacement) / np.linalg.norm(self.y_test)"
      ],
      "execution_count": 0,
      "outputs": []
    },
    {
      "metadata": {
        "id": "E01Kz-l5XlKC",
        "colab_type": "code",
        "outputId": "3250c56e-584b-4a17-fe3c-caf9ab7e7e27",
        "colab": {
          "base_uri": "https://localhost:8080/",
          "height": 398
        }
      },
      "cell_type": "code",
      "source": [
        "l2_errors = []\n",
        "for N in [10,100,1000,10000]:\n",
        "  physically_informed_nn = PhysicallyInformedNN(N)\n",
        "  l2_error = physically_informed_nn.l2_error()\n",
        "  l2_errors.append(l2_error)\n",
        "plt.plot([10,100,1000,10000],l2_errors)\n",
        "plt.title('L2 Loss vs number of training points in log 10 scale')\n",
        "plt.xscale('log')\n",
        "plt.xlabel('Number of training points')\n",
        "plt.ylabel('L2 error')"
      ],
      "execution_count": 0,
      "outputs": [
        {
          "output_type": "execute_result",
          "data": {
            "text/plain": [
              "Text(0, 0.5, 'L2 error')"
            ]
          },
          "metadata": {
            "tags": []
          },
          "execution_count": 12
        },
        {
          "output_type": "display_data",
          "data": {
            "image/png": "[encoded data removed]",
            "text/plain": [
              "<Figure size 576x396 with 1 Axes>"
            ]
          },
          "metadata": {
            "tags": []
          }
        }
      ]
    },
    {
      "metadata": {
        "id": "ql48CAq3tcRN",
        "colab_type": "text"
      },
      "cell_type": "markdown",
      "source": [
        "## Q3"
      ]
    },
    {
      "metadata": {
        "colab_type": "code",
        "id": "p6L0KLYhAL7j",
        "colab": {}
      },
      "cell_type": "code",
      "source": [
        "class VanillaNeuralClassifier:\n",
        "  def __init__(self,X,y,num_hidden_layers = None,num_neurons = None):\n",
        "    X  = (X - np.mean(X,axis = 0)) / np.std(X,axis = 0)\n",
        "    self.Xy = np.hstack((X,np.ones((X.shape[0],1)),y))\n",
        "    np.random.shuffle(self.Xy)\n",
        "    self.train_Xy = self.Xy[:6667]\n",
        "    self.test_X = self.Xy[6667:,:-1]\n",
        "    self.test_y = self.Xy[6667:,-1]\n",
        "    self.W = [np.vstack((np.random.randn(12,1) * np.sqrt(2 / 13),np.zeros((1,1))))]\n",
        "    self.batch_size = 32\n",
        "    self.num_hidden_layers = num_hidden_layers\n",
        "    self.iteration_num = 10000\n",
        "    self.beta_one = .9\n",
        "    self.beta_two = .999\n",
        "    self.epsilon = 1e-8    \n",
        "    if num_hidden_layers:\n",
        "       self.W = [np.vstack([np.random.randn(12,num_neurons) * np.sqrt(2 / (12 + num_neurons)), np.zeros((1,num_neurons))])] + \\\n",
        "                [np.vstack([np.random.randn(num_neurons,num_neurons),np.zeros((1,num_neurons))])] * self.num_hidden_layers + \\\n",
        "                [np.vstack([np.random.randn(num_neurons,1) * np.sqrt(2 / (1 + num_neurons)), np.zeros((1,1))])]\n",
        "        \n",
        "        \n",
        "  def sigmoid(self,x):\n",
        "    return 1 / (1 + np.exp(-x))\n",
        "  def relu(self,x):\n",
        "    return np.maximum(x,np.zeros(x.shape))\n",
        "  def forward(self,X,W):\n",
        "    out = np.matmul(X,W[0])\n",
        "    if len(W) > 1:\n",
        "      for j in range(self.num_hidden_layers + 1):\n",
        "        out = self.relu(out)\n",
        "        out = np.hstack([out,np.ones((out.shape[0],1))])\n",
        "        out = np.matmul(out,W[j + 1])\n",
        "    return self.sigmoid(out)\n",
        "  def loss(self,X,y,W):\n",
        "    yhat = self.forward(X,W)\n",
        "    return - np.sum(y * np.log(yhat + self.epsilon) + (1 - y) * np.log(1 - yhat + self.epsilon),axis = 0) / self.batch_size\n",
        "  def optimizer(self,learning_rate):\n",
        "    \n",
        "    loss = np.zeros((self.iteration_num,1))\n",
        "    locator = 0\n",
        "    W = self.W\n",
        "    m = [np.zeros(w.shape) for w in W]\n",
        "    v = [np.zeros(w.shape) for w in W]\n",
        "    grad_losses = grad(self.loss,2)\n",
        "    for iter_num in range(self.iteration_num):\n",
        "      # shuffle dataset here\n",
        "      np.random.shuffle(self.train_Xy)\n",
        "      train_x = self.train_Xy[:,:-1]\n",
        "      train_y = self.train_Xy[:,-1].reshape(train_x.shape[0],1)\n",
        "      this_X = train_x[:self.batch_size]\n",
        "      this_y = train_y[:self.batch_size]\n",
        "      this_loss = self.loss(this_X,this_y,W)\n",
        "      loss[locator] = this_loss\n",
        "      for i in range(len(W)):\n",
        "        this_loss_gradient = grad_losses(this_X,this_y,W)[i]\n",
        "        m[i] = self.beta_one * m[i] + (1 - self.beta_one) * this_loss_gradient\n",
        "        v[i] = self.beta_two * v[i] + (1 - self.beta_two) * np.multiply(this_loss_gradient,this_loss_gradient)\n",
        "        m_dot = m[i] / (1 - self.beta_one ** (iter_num + 1))\n",
        "        v_dot = v[i] / (1 - self.beta_two ** (iter_num + 1))\n",
        "        W[i] -= learning_rate * m_dot / (np.sqrt(v_dot) + self.epsilon)\n",
        "      locator += 1\n",
        "    return W,loss\n",
        "  def test_accuracy(self):\n",
        "    W,_ = self.optimizer(.001)\n",
        "    pred = np.round(self.forward(self.test_X,W)).astype('int')\n",
        "    acc = accuracy_score(self.test_y,pred)\n",
        "    return acc\n",
        "    \n",
        "      "
      ],
      "execution_count": 0,
      "outputs": []
    },
    {
      "metadata": {
        "id": "Pe9ZnZqm3elX",
        "colab_type": "code",
        "colab": {}
      },
      "cell_type": "code",
      "source": [
        "file = pd.read_csv('Data_for_UCI_named.csv.csv')\n",
        "lb = LabelBinarizer()\n",
        "#here unstable is 1 and stable is 0\n",
        "y_q3 = lb.fit_transform(file['stabf'])\n",
        "X_q3 = file.drop(columns = ['stab','stabf']).as_matrix()\n"
      ],
      "execution_count": 0,
      "outputs": []
    },
    {
      "metadata": {
        "id": "uYHPiCoUs9Qb",
        "colab_type": "text"
      },
      "cell_type": "markdown",
      "source": [
        "The accuracy table is provided below,  One thing to note is no the result from no hidden layer is repeatedly printed for visualization sake.\n"
      ]
    },
    {
      "metadata": {
        "colab_type": "code",
        "id": "vJeh7SyOjVOA",
        "outputId": "edad4435-8765-4f03-ae89-74c12121be7d",
        "colab": {
          "base_uri": "https://localhost:8080/",
          "height": 164
        }
      },
      "cell_type": "code",
      "source": [
        "accuracy_table = []\n",
        "for num_hidden_layer in [None,1,2,3]:\n",
        "  if num_hidden_layer is None:\n",
        "    vnc = VanillaNeuralClassifier(X_q3,y_q3)\n",
        "    accuracies = [vnc.test_accuracy()] * 3\n",
        "  else:\n",
        "    accuracies = []\n",
        "    for num_cells in [20,50,100]:\n",
        "      vnc = VanillaNeuralClassifier(X_q3,y_q3,num_hidden_layer,num_cells)\n",
        "      accuracies.append(vnc.test_accuracy())\n",
        "  accuracy_table.append(accuracies) \n",
        "accuracy_matrix = np.array(accuracy_table)\n",
        "accuracy_table = pd.DataFrame(accuracy_matrix,columns = ['20 cells','50 cells','100 cells'],index = ['No hidden layer','1 hidden layer','2 hidden layers','3 hidden layers'])\n",
        "print('accuracy table is')\n",
        "print(accuracy_table)"
      ],
      "execution_count": 0,
      "outputs": [
        {
          "output_type": "stream",
          "text": [
            "/usr/local/lib/python3.6/dist-packages/autograd/numpy/numpy_vjps.py:53: RuntimeWarning: overflow encountered in square\n",
            "  lambda ans, x, y : unbroadcast_f(y, lambda g: - g * x / y**2))\n"
          ],
          "name": "stderr"
        },
        {
          "output_type": "stream",
          "text": [
            "accuracy table is\n",
            "                 20 cells  50 cells  100 cells\n",
            "No hidden layer  0.811881  0.811881   0.811881\n",
            "1 hidden layer   0.939694  0.954995   0.951695\n",
            "2 hidden layers  0.940894  0.934293   0.938794\n",
            "3 hidden layers  0.925293  0.916592   0.903690\n"
          ],
          "name": "stdout"
        }
      ]
    },
    {
      "metadata": {
        "id": "Caoe7dDmNC5z",
        "colab_type": "code",
        "colab": {}
      },
      "cell_type": "code",
      "source": [
        "\n"
      ],
      "execution_count": 0,
      "outputs": []
    }
  ]
}