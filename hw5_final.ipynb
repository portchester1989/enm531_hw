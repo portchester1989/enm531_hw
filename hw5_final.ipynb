{
  "nbformat": 4,
  "nbformat_minor": 0,
  "metadata": {
    "colab": {
      "name": "hw5.ipynb",
      "version": "0.3.2",
      "provenance": []
    },
    "kernelspec": {
      "name": "python3",
      "display_name": "Python 3"
    },
    "accelerator": "GPU"
  },
  "cells": [
    {
      "metadata": {
        "id": "xAKmVCICyLLD",
        "colab_type": "code",
        "colab": {}
      },
      "cell_type": "code",
      "source": [
        "import numpy as np\n",
        "import pandas as pd\n",
        "import scipy\n",
        "import torch\n",
        "import torch.nn as nn\n",
        "import torch.nn.functional as F\n",
        "from torch.utils.data import DataLoader,Dataset\n",
        "from scipy.integrate import odeint\n",
        "import matplotlib.pyplot as plt\n",
        "import os\n",
        "import pickle\n",
        "from sklearn.metrics import confusion_matrix"
      ],
      "execution_count": 0,
      "outputs": []
    },
    {
      "metadata": {
        "id": "srQTTVOkJJs7",
        "colab_type": "code",
        "colab": {}
      },
      "cell_type": "code",
      "source": [
        "device =  torch.device(\"cuda:0\" if torch.cuda.is_available() else \"cpu\")"
      ],
      "execution_count": 0,
      "outputs": []
    },
    {
      "metadata": {
        "id": "kOxKRp-zySfp",
        "colab_type": "code",
        "colab": {}
      },
      "cell_type": "code",
      "source": [
        "class Cifar10CNN(nn.Module):\n",
        "  def __init__(self):\n",
        "    super().__init__()\n",
        "    self.conv1 = nn.Conv2d(3,6,5,padding=2)\n",
        "    self.max = nn.MaxPool2d(2,stride = 2)\n",
        "    self.conv2 = nn.Conv2d(6,12,5,padding=2)\n",
        "    self.conv3 = nn.Conv2d(12,24,5,padding=2)\n",
        "    self.fc1 = nn.Linear(384,120)\n",
        "    self.fc2 = nn.Linear(120,84)\n",
        "    self.fc3 = nn.Linear(84,10)\n",
        "    self.conv_net = nn.Sequential(self.conv1,nn.ReLU(),self.max,self.conv2,nn.ReLU(),self.max,self.conv3,nn.ReLU(),self.max)\n",
        "    self.fc_net = nn.Sequential(self.fc1,nn.ReLU(),self.fc2,nn.ReLU(),self.fc3,nn.Softmax())\n",
        "  def forward(self,x):\n",
        "    out = self.conv_net(x)\n",
        "    out = out.view(-1,384)\n",
        "    out = self.fc_net(out)\n",
        "    return out\n",
        " "
      ],
      "execution_count": 0,
      "outputs": []
    },
    {
      "metadata": {
        "id": "Q5KxiQPQ9FM-",
        "colab_type": "code",
        "colab": {}
      },
      "cell_type": "code",
      "source": [
        "class Cifar10Dataset(Dataset):\n",
        "  def __init__(self,mode = 'train'):\n",
        "    super().__init__()\n",
        "    if mode == 'train':\n",
        "      data_list = []\n",
        "      label_list = []\n",
        "      for i in range(5):\n",
        "        file_path = 'cifar-10-batches-py/data_batch_' + str(i + 1)\n",
        "        file = self.unpickle(file_path)\n",
        "        data = file[b'data'].reshape(10000,3,32,32)\n",
        "        #label = np.eye(10)[file[b'labels']]\n",
        "        label = np.array(file[b'labels'])\n",
        "        data_list.append(data)\n",
        "        label_list.append(label)\n",
        "        self.data = np.concatenate(data_list,axis = 0)\n",
        "        self.labels = np.concatenate(label_list,axis = 0)\n",
        "    else:\n",
        "      file_path = 'cifar-10-batches-py/test_batch'\n",
        "      file = self.unpickle(file_path)\n",
        "      self.data = file[b'data'].reshape(10000,3,32,32)\n",
        "      #label = np.eye(10)[file[b'labels']]\n",
        "      self.labels = np.array(file[b'labels'])\n",
        "    \n",
        "  def unpickle(self,file):\n",
        "    with open(file, 'rb') as fo:\n",
        "        dict = pickle.load(fo, encoding='bytes')\n",
        "    return dict\n",
        "  def __len__(self):\n",
        "    return len(self.labels)\n",
        "  def __getitem__(self,idx):\n",
        "    data = self.data[idx]\n",
        "    #normalize the input\n",
        "    data = (data - 127.5) / 127.5\n",
        "    label = self.labels[idx]\n",
        "    return {'data':data,'label':label}"
      ],
      "execution_count": 0,
      "outputs": []
    },
    {
      "metadata": {
        "id": "L0qlmClIfUfF",
        "colab_type": "code",
        "outputId": "f434b5d3-10a0-4d99-d385-f00429c3f06a",
        "colab": {
          "resources": {
            "http://localhost:8080/nbextensions/google.colab/files.js": {
              "data": "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",
              "ok": true,
              "headers": [
                [
                  "content-type",
                  "application/javascript"
                ]
              ],
              "status": 200,
              "status_text": ""
            }
          },
          "base_uri": "https://localhost:8080/",
          "height": 75
        }
      },
      "cell_type": "code",
      "source": [
        "from google.colab import files\n",
        "file = files.upload()"
      ],
      "execution_count": 0,
      "outputs": [
        {
          "output_type": "display_data",
          "data": {
            "text/html": [
              "\n",
              "     <input type=\"file\" id=\"files-46464183-00ca-44b0-acc8-ebc7131072bb\" name=\"files[]\" multiple disabled />\n",
              "     <output id=\"result-46464183-00ca-44b0-acc8-ebc7131072bb\">\n",
              "      Upload widget is only available when the cell has been executed in the\n",
              "      current browser session. Please rerun this cell to enable.\n",
              "      </output>\n",
              "      <script src=\"/nbextensions/google.colab/files.js\"></script> "
            ],
            "text/plain": [
              "<IPython.core.display.HTML object>"
            ]
          },
          "metadata": {
            "tags": []
          }
        },
        {
          "output_type": "stream",
          "text": [
            "Saving cifar-10-python.tar.gz to cifar-10-python.tar.gz\n"
          ],
          "name": "stdout"
        }
      ]
    },
    {
      "metadata": {
        "id": "ulRu05HSZrbo",
        "colab_type": "code",
        "outputId": "05c90886-f8eb-4e3a-9b4f-22688bdc9d19",
        "colab": {
          "base_uri": "https://localhost:8080/",
          "height": 73
        }
      },
      "cell_type": "code",
      "source": [
        "trainset = Cifar10Dataset()\n",
        "trainloader = torch.utils.data.DataLoader(trainset, batch_size=128,\n",
        "                                          shuffle=True)\n",
        "#trainset[1]['data'].shape\n",
        "\n",
        "model = Cifar10CNN().to(device)\n",
        "optimizer = torch.optim.Adam(model.parameters(),lr = .001)\n",
        "criterion = nn.CrossEntropyLoss()\n",
        "losses = []\n",
        "for epoch in range(20):\n",
        "  for i,data in enumerate(trainloader, 0):\n",
        "    inputs = data['data'].float().to(device)\n",
        "    #print(data['label'][2])\n",
        "    labels = data['label'].long().to(device)\n",
        "    \n",
        "        # zero the parameter gradients\n",
        "    optimizer.zero_grad()\n",
        "\n",
        "    # forward + backward + optimize\n",
        "    outputs = model(inputs)\n",
        "    loss = criterion(outputs, labels)\n",
        "    loss.backward()\n",
        "    losses.append(loss)\n",
        "    optimizer.step()\n"
      ],
      "execution_count": 0,
      "outputs": [
        {
          "output_type": "stream",
          "text": [
            "/usr/local/lib/python3.6/dist-packages/torch/nn/modules/container.py:92: UserWarning: Implicit dimension choice for softmax has been deprecated. Change the call to include dim=X as an argument.\n",
            "  input = module(input)\n"
          ],
          "name": "stderr"
        }
      ]
    },
    {
      "metadata": {
        "id": "GKtaWm_A1_Sk",
        "colab_type": "code",
        "outputId": "3c5325de-7752-4664-be5f-5ee64202b300",
        "colab": {
          "base_uri": "https://localhost:8080/",
          "height": 583
        }
      },
      "cell_type": "code",
      "source": [
        "plt.plot(losses)\n",
        "testset = Cifar10Dataset('test')\n",
        "testloader = torch.utils.data.DataLoader(testset, batch_size=10000)\n",
        "for i,data in enumerate(testloader,0):\n",
        "  test_inputs = data['data'].float().to(device)\n",
        "  test_outputs = model(test_inputs)\n",
        "  _,prediction = test_outputs.max(1)\n",
        "  prediction = prediction.cpu().data.numpy()\n",
        "  true = data['label'].data.numpy()\n",
        "  print(confusion_matrix(true,prediction))"
      ],
      "execution_count": 0,
      "outputs": [
        {
          "output_type": "stream",
          "text": [
            "/usr/local/lib/python3.6/dist-packages/torch/nn/modules/container.py:92: UserWarning: Implicit dimension choice for softmax has been deprecated. Change the call to include dim=X as an argument.\n",
            "  input = module(input)\n"
          ],
          "name": "stderr"
        },
        {
          "output_type": "stream",
          "text": [
            "[[683  12  44  12  22   7  17  13 143  47]\n",
            " [ 38 677  15  14  13   3  17   9  84 130]\n",
            " [ 91   8 498  55 122  79  83  24  29  11]\n",
            " [ 25   6  93 347  74 205 128  41  42  39]\n",
            " [ 31   5  90  45 544  73  96  79  30   7]\n",
            " [ 11   0  88 129  66 533  57  66  29  21]\n",
            " [ 12   5  47  38  71  22 751  14  25  15]\n",
            " [ 21   1  46  52  82  98  22 637  10  31]\n",
            " [ 73  27  15  15   6   7  10   5 821  21]\n",
            " [ 40  97  12  22  10  12  34  25  80 668]]\n"
          ],
          "name": "stdout"
        },
        {
          "output_type": "display_data",
          "data": {
            "image/png": "[encoded data removed]",
            "text/plain": [
              "<Figure size 576x396 with 1 Axes>"
            ]
          },
          "metadata": {
            "tags": []
          }
        }
      ]
    },
    {
      "metadata": {
        "id": "YYCIVzdXO67S",
        "colab_type": "code",
        "colab": {}
      },
      "cell_type": "code",
      "source": [
        "class Cifar10LSTMCell(nn.Module):\n",
        "  def __init__(self,batch_size,hidden_neuron):\n",
        "    super().__init__()\n",
        "    self.wf = nn.Linear(2 + hidden_neuron,hidden_neuron)\n",
        "    self.wi = nn.Linear(2 + hidden_neuron,hidden_neuron)\n",
        "    self.wc = nn.Linear(2 + hidden_neuron,hidden_neuron)\n",
        "    self.wo = nn.Linear(2 + hidden_neuron,hidden_neuron)\n",
        "    #self.hidden,self.c = self.init_hidden()\n",
        "    self.hidden_to_prediction = nn.Linear(hidden_neuron,2)\n",
        "    self.hidden_size = hidden_neuron\n",
        "    self.batch_size = batch_size\n",
        "  def init_hidden(self):\n",
        "    return (torch.zeros(self.batch_size, self.hidden_size),torch.zeros(self.batch_size, self.hidden_size))\n",
        "  def forward(self,inp,hidden,cell):\n",
        "    concat = torch.cat((inp, hidden), 1)\n",
        "    f = torch.sigmoid(self.wf(concat))\n",
        "    i = torch.sigmoid(self.wi(concat))\n",
        "    c_tilda = torch.tanh(self.wc(concat))\n",
        "    cell = f * cell+ i * c_tilda\n",
        "    o = torch.sigmoid(self.wo(concat))\n",
        "    hidden = o * torch.tanh(cell)\n",
        "    out = self.hidden_to_prediction(hidden)\n",
        "    return out,hidden,cell"
      ],
      "execution_count": 0,
      "outputs": []
    },
    {
      "metadata": {
        "id": "ugZd_CuYEMeb",
        "colab_type": "code",
        "colab": {}
      },
      "cell_type": "code",
      "source": [
        "# Data set create\n",
        "class LotkaVolterra(Dataset):\n",
        "  def __init__(self,mode = 'train'):\n",
        "    super().__init__()\n",
        "    self.y_init = [10,5]\n",
        "    self.hyper_parameters = (1,.1,1.5,.75)\n",
        "    self.t = np.linspace(0, 60, 2001)\n",
        "    self.solution = odeint(self.lotka_volterra, self.y_init, self.t, args=self.hyper_parameters)\n",
        "    if mode == 'train':\n",
        "      self.data = self.solution[:1334]\n",
        "      \n",
        "    else:\n",
        "      self.data = self.solution[1334:]\n",
        "    #normalize \n",
        "    self.data = (self.data - np.mean(self.data,axis = 0)) / np.std(self.data,axis = 0)\n",
        "    self.X = np.stack([self.data[i:i+8] for i in range(len(self.data) - 8)])\n",
        "    self.Y = np.stack([self.data[j+8] for j in range(len(self.data) - 8)])\n",
        "  def lotka_volterra(self,vec,t,alpha,beta,gamma,sigma):\n",
        "    x, y = vec\n",
        "    return [x * (alpha - beta * y), - y * (gamma - sigma * x)]\n",
        "  def __len__(self):\n",
        "    return len(self.data) - 8\n",
        "  def __getitem__(self,idx):\n",
        "    #print(self.X.shape)\n",
        "    #print(self.Y.shape)\n",
        "    X = self.X[idx]\n",
        "    #print(signal)\n",
        "    #signal = torch.from_numpy(signal).to(device)\n",
        "    Y = self.Y[idx]\n",
        "    #target = np.mean(target)\n",
        "    #target = torch.from_numpy(signal).to(device)\n",
        "    sample = {'X':X,'Y':Y}\n",
        "    return sample\n"
      ],
      "execution_count": 0,
      "outputs": []
    },
    {
      "metadata": {
        "id": "e4UIPfU4LIZe",
        "colab_type": "code",
        "colab": {}
      },
      "cell_type": "code",
      "source": [
        "# create data set\n",
        "data_set = LotkaVolterra()\n",
        "data_set_loader =  DataLoader(data_set, batch_size=128,shuffle=True)\n",
        "losses = []\n",
        "criterion = nn.MSELoss()\n",
        "model = Cifar10LSTMCell(batch_size = 128,hidden_neuron=20).to(device)\n",
        "optimizer = torch.optim.Adam(model.parameters(),lr = .001)\n",
        "\n",
        "for i in range(20000):\n",
        "  indices = torch.randperm(len(data_set))[:128]\n",
        "  sample_batched = data_set[indices]\n",
        "  X = torch.from_numpy(sample_batched['X']).float().to(device)\n",
        "  Y = torch.from_numpy(sample_batched['Y']).float().to(device)\n",
        "  hidden = model.init_hidden()[0].float().to(device)\n",
        "  cell = model.init_hidden()[1].float().to(device)\n",
        "  #print(hidden.size())\n",
        "  \n",
        "  for j in range(8):\n",
        "    out,hidden,cell = model(torch.squeeze(X[:,j,:]),hidden,cell)\n",
        "  loss = criterion(out,Y)\n",
        "  losses.append(loss)\n",
        "  loss.backward()\n",
        "  optimizer.step()"
      ],
      "execution_count": 0,
      "outputs": []
    },
    {
      "metadata": {
        "id": "rIQEIBaCHQEc",
        "colab_type": "code",
        "colab": {}
      },
      "cell_type": "code",
      "source": [
        "#prediction\n",
        "class Evaluation:\n",
        "  def __init__(self,model):\n",
        "    self.model = model\n",
        "    self.model.batch_size = 659\n",
        "    self.test_set = LotkaVolterra('test')\n",
        "    self.hidden,self.cell = self.model.init_hidden()\n",
        "    self.hidden = self.hidden.to(device)\n",
        "    self.cell = self.cell.to(device)\n",
        "    \n",
        "  def prediction(self):  \n",
        "    X = torch.from_numpy(self.test_set[:]['X']).float().to(device)\n",
        "    for j in range(8):\n",
        "      out,self.hidden,self.cell = model(X[:,j,:],self.hidden,self.cell)\n",
        "    return out\n",
        "  def plot(self):\n",
        "    out = self.prediction().cpu().data.numpy()\n",
        "    plt.title('populations')\n",
        "    time_test = np.linspace(40.24,60,659)\n",
        "    plt.plot(time_test,out[:,0],label = 'predicted x(t)')\n",
        "    plt.plot(time_test,out[:,1],label = 'predicted y(t)')\n",
        "    plt.plot(time_test,test.test_set[:]['Y'][:,0],label = 'true x(t)')\n",
        "    plt.plot(time_test,test.test_set[:]['Y'][:,1],label = 'true y(t)')\n",
        "    plt.legend(loc='best')\n",
        "    plt.xlabel('T')\n",
        "    plt.ylabel('numbers')\n",
        "  def l2_error(self):\n",
        "    pred_y_norm = self.prediction().cpu().data.numpy()\n",
        "    displacement = pred_y_norm - self.test_set[:]['Y']\n",
        "    return np.linalg.norm(displacement,axis = 0) / np.linalg.norm(self.test_set[:]['Y'],axis = 0) "
      ],
      "execution_count": 0,
      "outputs": []
    },
    {
      "metadata": {
        "id": "Tp_nkIgAIA5T",
        "colab_type": "code",
        "outputId": "827c4b36-b565-4380-b1b8-37a0e9061d70",
        "colab": {
          "base_uri": "https://localhost:8080/",
          "height": 394
        }
      },
      "cell_type": "code",
      "source": [
        "test = Evaluation(model)\n",
        "test.plot()\n",
        "print('L2 error is [x,y] = ' + np.array2string(test.l2_error()))"
      ],
      "execution_count": 0,
      "outputs": [
        {
          "output_type": "stream",
          "text": [
            "L2 error is [x,y] = [0.23906675 0.26694353]\n"
          ],
          "name": "stdout"
        },
        {
          "output_type": "display_data",
          "data": {
            "image/png": "[encoded data removed]",
            "text/plain": [
              "<Figure size 576x396 with 1 Axes>"
            ]
          },
          "metadata": {
            "tags": []
          }
        }
      ]
    },
    {
      "metadata": {
        "id": "i3Dqi7VmN36N",
        "colab_type": "code",
        "outputId": "7dd0996b-5427-4ef6-aae1-1bef9b46fdc4",
        "colab": {
          "base_uri": "https://localhost:8080/",
          "height": 2393
        }
      },
      "cell_type": "code",
      "source": [
        ""
      ],
      "execution_count": 0,
      "outputs": [
        {
          "output_type": "execute_result",
          "data": {
            "text/plain": [
              "array([40.24      , 40.2700304 , 40.30006079, 40.33009119, 40.36012158,\n",
              "       40.39015198, 40.42018237, 40.45021277, 40.48024316, 40.51027356,\n",
              "       40.54030395, 40.57033435, 40.60036474, 40.63039514, 40.66042553,\n",
              "       40.69045593, 40.72048632, 40.75051672, 40.78054711, 40.81057751,\n",
              "       40.8406079 , 40.8706383 , 40.90066869, 40.93069909, 40.96072948,\n",
              "       40.99075988, 41.02079027, 41.05082067, 41.08085106, 41.11088146,\n",
              "       41.14091185, 41.17094225, 41.20097264, 41.23100304, 41.26103343,\n",
              "       41.29106383, 41.32109422, 41.35112462, 41.38115502, 41.41118541,\n",
              "       41.44121581, 41.4712462 , 41.5012766 , 41.53130699, 41.56133739,\n",
              "       41.59136778, 41.62139818, 41.65142857, 41.68145897, 41.71148936,\n",
              "       41.74151976, 41.77155015, 41.80158055, 41.83161094, 41.86164134,\n",
              "       41.89167173, 41.92170213, 41.95173252, 41.98176292, 42.01179331,\n",
              "       42.04182371, 42.0718541 , 42.1018845 , 42.13191489, 42.16194529,\n",
              "       42.19197568, 42.22200608, 42.25203647, 42.28206687, 42.31209726,\n",
              "       42.34212766, 42.37215805, 42.40218845, 42.43221884, 42.46224924,\n",
              "       42.49227964, 42.52231003, 42.55234043, 42.58237082, 42.61240122,\n",
              "       42.64243161, 42.67246201, 42.7024924 , 42.7325228 , 42.76255319,\n",
              "       42.79258359, 42.82261398, 42.85264438, 42.88267477, 42.91270517,\n",
              "       42.94273556, 42.97276596, 43.00279635, 43.03282675, 43.06285714,\n",
              "       43.09288754, 43.12291793, 43.15294833, 43.18297872, 43.21300912,\n",
              "       43.24303951, 43.27306991, 43.3031003 , 43.3331307 , 43.36316109,\n",
              "       43.39319149, 43.42322188, 43.45325228, 43.48328267, 43.51331307,\n",
              "       43.54334347, 43.57337386, 43.60340426, 43.63343465, 43.66346505,\n",
              "       43.69349544, 43.72352584, 43.75355623, 43.78358663, 43.81361702,\n",
              "       43.84364742, 43.87367781, 43.90370821, 43.9337386 , 43.963769  ,\n",
              "       43.99379939, 44.02382979, 44.05386018, 44.08389058, 44.11392097,\n",
              "       44.14395137, 44.17398176, 44.20401216, 44.23404255, 44.26407295,\n",
              "       44.29410334, 44.32413374, 44.35416413, 44.38419453, 44.41422492,\n",
              "       44.44425532, 44.47428571, 44.50431611, 44.5343465 , 44.5643769 ,\n",
              "       44.59440729, 44.62443769, 44.65446809, 44.68449848, 44.71452888,\n",
              "       44.74455927, 44.77458967, 44.80462006, 44.83465046, 44.86468085,\n",
              "       44.89471125, 44.92474164, 44.95477204, 44.98480243, 45.01483283,\n",
              "       45.04486322, 45.07489362, 45.10492401, 45.13495441, 45.1649848 ,\n",
              "       45.1950152 , 45.22504559, 45.25507599, 45.28510638, 45.31513678,\n",
              "       45.34516717, 45.37519757, 45.40522796, 45.43525836, 45.46528875,\n",
              "       45.49531915, 45.52534954, 45.55537994, 45.58541033, 45.61544073,\n",
              "       45.64547112, 45.67550152, 45.70553191, 45.73556231, 45.76559271,\n",
              "       45.7956231 , 45.8256535 , 45.85568389, 45.88571429, 45.91574468,\n",
              "       45.94577508, 45.97580547, 46.00583587, 46.03586626, 46.06589666,\n",
              "       46.09592705, 46.12595745, 46.15598784, 46.18601824, 46.21604863,\n",
              "       46.24607903, 46.27610942, 46.30613982, 46.33617021, 46.36620061,\n",
              "       46.396231  , 46.4262614 , 46.45629179, 46.48632219, 46.51635258,\n",
              "       46.54638298, 46.57641337, 46.60644377, 46.63647416, 46.66650456,\n",
              "       46.69653495, 46.72656535, 46.75659574, 46.78662614, 46.81665653,\n",
              "       46.84668693, 46.87671733, 46.90674772, 46.93677812, 46.96680851,\n",
              "       46.99683891, 47.0268693 , 47.0568997 , 47.08693009, 47.11696049,\n",
              "       47.14699088, 47.17702128, 47.20705167, 47.23708207, 47.26711246,\n",
              "       47.29714286, 47.32717325, 47.35720365, 47.38723404, 47.41726444,\n",
              "       47.44729483, 47.47732523, 47.50735562, 47.53738602, 47.56741641,\n",
              "       47.59744681, 47.6274772 , 47.6575076 , 47.68753799, 47.71756839,\n",
              "       47.74759878, 47.77762918, 47.80765957, 47.83768997, 47.86772036,\n",
              "       47.89775076, 47.92778116, 47.95781155, 47.98784195, 48.01787234,\n",
              "       48.04790274, 48.07793313, 48.10796353, 48.13799392, 48.16802432,\n",
              "       48.19805471, 48.22808511, 48.2581155 , 48.2881459 , 48.31817629,\n",
              "       48.34820669, 48.37823708, 48.40826748, 48.43829787, 48.46832827,\n",
              "       48.49835866, 48.52838906, 48.55841945, 48.58844985, 48.61848024,\n",
              "       48.64851064, 48.67854103, 48.70857143, 48.73860182, 48.76863222,\n",
              "       48.79866261, 48.82869301, 48.8587234 , 48.8887538 , 48.91878419,\n",
              "       48.94881459, 48.97884498, 49.00887538, 49.03890578, 49.06893617,\n",
              "       49.09896657, 49.12899696, 49.15902736, 49.18905775, 49.21908815,\n",
              "       49.24911854, 49.27914894, 49.30917933, 49.33920973, 49.36924012,\n",
              "       49.39927052, 49.42930091, 49.45933131, 49.4893617 , 49.5193921 ,\n",
              "       49.54942249, 49.57945289, 49.60948328, 49.63951368, 49.66954407,\n",
              "       49.69957447, 49.72960486, 49.75963526, 49.78966565, 49.81969605,\n",
              "       49.84972644, 49.87975684, 49.90978723, 49.93981763, 49.96984802,\n",
              "       49.99987842, 50.02990881, 50.05993921, 50.0899696 , 50.12      ,\n",
              "       50.1500304 , 50.18006079, 50.21009119, 50.24012158, 50.27015198,\n",
              "       50.30018237, 50.33021277, 50.36024316, 50.39027356, 50.42030395,\n",
              "       50.45033435, 50.48036474, 50.51039514, 50.54042553, 50.57045593,\n",
              "       50.60048632, 50.63051672, 50.66054711, 50.69057751, 50.7206079 ,\n",
              "       50.7506383 , 50.78066869, 50.81069909, 50.84072948, 50.87075988,\n",
              "       50.90079027, 50.93082067, 50.96085106, 50.99088146, 51.02091185,\n",
              "       51.05094225, 51.08097264, 51.11100304, 51.14103343, 51.17106383,\n",
              "       51.20109422, 51.23112462, 51.26115502, 51.29118541, 51.32121581,\n",
              "       51.3512462 , 51.3812766 , 51.41130699, 51.44133739, 51.47136778,\n",
              "       51.50139818, 51.53142857, 51.56145897, 51.59148936, 51.62151976,\n",
              "       51.65155015, 51.68158055, 51.71161094, 51.74164134, 51.77167173,\n",
              "       51.80170213, 51.83173252, 51.86176292, 51.89179331, 51.92182371,\n",
              "       51.9518541 , 51.9818845 , 52.01191489, 52.04194529, 52.07197568,\n",
              "       52.10200608, 52.13203647, 52.16206687, 52.19209726, 52.22212766,\n",
              "       52.25215805, 52.28218845, 52.31221884, 52.34224924, 52.37227964,\n",
              "       52.40231003, 52.43234043, 52.46237082, 52.49240122, 52.52243161,\n",
              "       52.55246201, 52.5824924 , 52.6125228 , 52.64255319, 52.67258359,\n",
              "       52.70261398, 52.73264438, 52.76267477, 52.79270517, 52.82273556,\n",
              "       52.85276596, 52.88279635, 52.91282675, 52.94285714, 52.97288754,\n",
              "       53.00291793, 53.03294833, 53.06297872, 53.09300912, 53.12303951,\n",
              "       53.15306991, 53.1831003 , 53.2131307 , 53.24316109, 53.27319149,\n",
              "       53.30322188, 53.33325228, 53.36328267, 53.39331307, 53.42334347,\n",
              "       53.45337386, 53.48340426, 53.51343465, 53.54346505, 53.57349544,\n",
              "       53.60352584, 53.63355623, 53.66358663, 53.69361702, 53.72364742,\n",
              "       53.75367781, 53.78370821, 53.8137386 , 53.843769  , 53.87379939,\n",
              "       53.90382979, 53.93386018, 53.96389058, 53.99392097, 54.02395137,\n",
              "       54.05398176, 54.08401216, 54.11404255, 54.14407295, 54.17410334,\n",
              "       54.20413374, 54.23416413, 54.26419453, 54.29422492, 54.32425532,\n",
              "       54.35428571, 54.38431611, 54.4143465 , 54.4443769 , 54.47440729,\n",
              "       54.50443769, 54.53446809, 54.56449848, 54.59452888, 54.62455927,\n",
              "       54.65458967, 54.68462006, 54.71465046, 54.74468085, 54.77471125,\n",
              "       54.80474164, 54.83477204, 54.86480243, 54.89483283, 54.92486322,\n",
              "       54.95489362, 54.98492401, 55.01495441, 55.0449848 , 55.0750152 ,\n",
              "       55.10504559, 55.13507599, 55.16510638, 55.19513678, 55.22516717,\n",
              "       55.25519757, 55.28522796, 55.31525836, 55.34528875, 55.37531915,\n",
              "       55.40534954, 55.43537994, 55.46541033, 55.49544073, 55.52547112,\n",
              "       55.55550152, 55.58553191, 55.61556231, 55.64559271, 55.6756231 ,\n",
              "       55.7056535 , 55.73568389, 55.76571429, 55.79574468, 55.82577508,\n",
              "       55.85580547, 55.88583587, 55.91586626, 55.94589666, 55.97592705,\n",
              "       56.00595745, 56.03598784, 56.06601824, 56.09604863, 56.12607903,\n",
              "       56.15610942, 56.18613982, 56.21617021, 56.24620061, 56.276231  ,\n",
              "       56.3062614 , 56.33629179, 56.36632219, 56.39635258, 56.42638298,\n",
              "       56.45641337, 56.48644377, 56.51647416, 56.54650456, 56.57653495,\n",
              "       56.60656535, 56.63659574, 56.66662614, 56.69665653, 56.72668693,\n",
              "       56.75671733, 56.78674772, 56.81677812, 56.84680851, 56.87683891,\n",
              "       56.9068693 , 56.9368997 , 56.96693009, 56.99696049, 57.02699088,\n",
              "       57.05702128, 57.08705167, 57.11708207, 57.14711246, 57.17714286,\n",
              "       57.20717325, 57.23720365, 57.26723404, 57.29726444, 57.32729483,\n",
              "       57.35732523, 57.38735562, 57.41738602, 57.44741641, 57.47744681,\n",
              "       57.5074772 , 57.5375076 , 57.56753799, 57.59756839, 57.62759878,\n",
              "       57.65762918, 57.68765957, 57.71768997, 57.74772036, 57.77775076,\n",
              "       57.80778116, 57.83781155, 57.86784195, 57.89787234, 57.92790274,\n",
              "       57.95793313, 57.98796353, 58.01799392, 58.04802432, 58.07805471,\n",
              "       58.10808511, 58.1381155 , 58.1681459 , 58.19817629, 58.22820669,\n",
              "       58.25823708, 58.28826748, 58.31829787, 58.34832827, 58.37835866,\n",
              "       58.40838906, 58.43841945, 58.46844985, 58.49848024, 58.52851064,\n",
              "       58.55854103, 58.58857143, 58.61860182, 58.64863222, 58.67866261,\n",
              "       58.70869301, 58.7387234 , 58.7687538 , 58.79878419, 58.82881459,\n",
              "       58.85884498, 58.88887538, 58.91890578, 58.94893617, 58.97896657,\n",
              "       59.00899696, 59.03902736, 59.06905775, 59.09908815, 59.12911854,\n",
              "       59.15914894, 59.18917933, 59.21920973, 59.24924012, 59.27927052,\n",
              "       59.30930091, 59.33933131, 59.3693617 , 59.3993921 , 59.42942249,\n",
              "       59.45945289, 59.48948328, 59.51951368, 59.54954407, 59.57957447,\n",
              "       59.60960486, 59.63963526, 59.66966565, 59.69969605, 59.72972644,\n",
              "       59.75975684, 59.78978723, 59.81981763, 59.84984802, 59.87987842,\n",
              "       59.90990881, 59.93993921, 59.9699696 , 60.        ])"
            ]
          },
          "metadata": {
            "tags": []
          },
          "execution_count": 155
        }
      ]
    },
    {
      "metadata": {
        "id": "mwSJHj1LQv8A",
        "colab_type": "code",
        "colab": {}
      },
      "cell_type": "code",
      "source": [
        ""
      ],
      "execution_count": 0,
      "outputs": []
    }
  ]
}